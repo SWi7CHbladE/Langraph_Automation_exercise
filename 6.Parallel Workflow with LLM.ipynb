{
 "cells": [
  {
   "cell_type": "markdown",
   "id": "c805bf19",
   "metadata": {},
   "source": [
    "# A Parallel workflow LLM app\n",
    "Here we are attempting to create a LLM application with parallel workflow"
   ]
  },
  {
   "cell_type": "markdown",
   "id": "bc061262",
   "metadata": {},
   "source": [
    "### 1. Import dependencies"
   ]
  },
  {
   "cell_type": "code",
   "execution_count": null,
   "id": "9282af68",
   "metadata": {},
   "outputs": [],
   "source": [
    "from langgraph.graph import StateGraph, START, END\n",
    "from langchain_ollama.chat_models import ChatOllama\n",
    "from typing import TypedDict"
   ]
  },
  {
   "cell_type": "code",
   "execution_count": null,
   "id": "14fc8b7c",
   "metadata": {},
   "outputs": [],
   "source": [
    "# For graphical visualization of the state graph\n",
    " \n",
    "import nest_asyncio\n",
    "nest_asyncio.apply()\n",
    "from langchain_core.runnables.graph import MermaidDrawMethod\n",
    "from IPython.display import Image"
   ]
  },
  {
   "cell_type": "markdown",
   "id": "8d27c2c4",
   "metadata": {},
   "source": [
    "### 2. Linking the model"
   ]
  },
  {
   "cell_type": "code",
   "execution_count": null,
   "id": "cbe6fe93",
   "metadata": {},
   "outputs": [],
   "source": [
    "model = ChatOllama(model=\"gemma:2b\")"
   ]
  },
  {
   "cell_type": "markdown",
   "id": "e313cda2",
   "metadata": {},
   "source": [
    "### 3. Create a state"
   ]
  },
  {
   "cell_type": "code",
   "execution_count": null,
   "id": "c8efd95c",
   "metadata": {},
   "outputs": [],
   "source": [
    "class BlogState(TypedDict):                      # The BlogState inherits a TypedDict\n",
    "    topic: str\n",
    "    outline: str\n",
    "    blog: str"
   ]
  },
  {
   "cell_type": "markdown",
   "id": "f4ea3905",
   "metadata": {},
   "source": [
    "### 4. Define the function for the graph node"
   ]
  },
  {
   "cell_type": "code",
   "execution_count": null,
   "id": "d57b95e6",
   "metadata": {},
   "outputs": [],
   "source": [
    "def llm_outline(state: BlogState) -> BlogState:\n",
    "    # Extract the question from the state\n",
    "    topic = state[\"topic\"]\n",
    "\n",
    "\n",
    "    # Form a prompt\n",
    "    prompt = f\"I require an outline for a blog on {topic}.\"\n",
    "\n",
    "\n",
    "    # Ask the question to the model\n",
    "    outline = model.invoke(prompt).content\n",
    "\n",
    "\n",
    "    # Update the state with the answer\n",
    "    state['outline'] = outline\n",
    "\n",
    "    return state\n",
    "\n",
    "\n",
    "def llm_blog(state: BlogState) -> BlogState:\n",
    "    # Extract the outline from the state\n",
    "    outline = state[\"outline\"]\n",
    "\n",
    "\n",
    "    # Form a prompt\n",
    "    prompt = f\"Write a detailed blog based on the following outline:\\n{outline}\"\n",
    "\n",
    "\n",
    "    # Ask the question to the model\n",
    "    blog = model.invoke(prompt).content\n",
    "\n",
    "\n",
    "    # Update the state with the answer\n",
    "    state[\"blog\"] = blog\n",
    "\n",
    "    return state"
   ]
  },
  {
   "cell_type": "markdown",
   "id": "3356a0f8",
   "metadata": {},
   "source": [
    "### 5. Create the graph"
   ]
  },
  {
   "cell_type": "code",
   "execution_count": null,
   "id": "07cb083e",
   "metadata": {},
   "outputs": [],
   "source": [
    "# Declare the graph:\n",
    "graph = StateGraph(BlogState)                    # The StateGraph takes the state as a parameter, signifying that the \"state\" will be exchanged between the nodes through the edges.\n",
    "\n",
    "# Add a nodes/states to the graph:\n",
    "graph.add_node(\"llm_outline\", llm_outline)\n",
    "graph.add_node(\"llm_blog\", llm_blog)\n",
    "\n",
    "\n",
    "# Add edges to the graph:\n",
    "graph.add_edge(START, 'llm_outline')\n",
    "graph.add_edge('llm_outline', 'llm_blog')\n",
    "graph.add_edge('llm_blog', END)"
   ]
  },
  {
   "cell_type": "markdown",
   "id": "2b197f1a",
   "metadata": {},
   "source": [
    "### 6. Compile the graph"
   ]
  },
  {
   "cell_type": "code",
   "execution_count": null,
   "id": "f34d65a6",
   "metadata": {},
   "outputs": [],
   "source": [
    "workflow = graph.compile()"
   ]
  },
  {
   "cell_type": "markdown",
   "id": "4caaf2e8",
   "metadata": {},
   "source": [
    "### 7. Run the code"
   ]
  },
  {
   "cell_type": "code",
   "execution_count": null,
   "id": "d4738a60",
   "metadata": {},
   "outputs": [],
   "source": [
    "initial_state = { \"topic\" : \"Motorcycles\" }\n",
    "\n",
    "final_state = workflow.invoke(initial_state)\n",
    "\n",
    "print(final_state)\n"
   ]
  },
  {
   "cell_type": "code",
   "execution_count": null,
   "id": "6df38274",
   "metadata": {},
   "outputs": [],
   "source": [
    "print(final_state[\"outline\"])"
   ]
  },
  {
   "cell_type": "code",
   "execution_count": null,
   "id": "7e8d0370",
   "metadata": {},
   "outputs": [],
   "source": [
    "print(final_state[\"blog\"])"
   ]
  },
  {
   "cell_type": "markdown",
   "id": "63a93c16",
   "metadata": {},
   "source": [
    "### 8. The Graph"
   ]
  },
  {
   "cell_type": "code",
   "execution_count": null,
   "id": "27e42322",
   "metadata": {},
   "outputs": [],
   "source": [
    "from IPython.display import Image\n",
    "Image(workflow.get_graph().draw_mermaid_png(draw_method=MermaidDrawMethod.PYPPETEER))"
   ]
  }
 ],
 "metadata": {
  "kernelspec": {
   "display_name": "llm",
   "language": "python",
   "name": "python3"
  },
  "language_info": {
   "codemirror_mode": {
    "name": "ipython",
    "version": 3
   },
   "file_extension": ".py",
   "mimetype": "text/x-python",
   "name": "python",
   "nbconvert_exporter": "python",
   "pygments_lexer": "ipython3",
   "version": "3.12.12"
  }
 },
 "nbformat": 4,
 "nbformat_minor": 5
}
