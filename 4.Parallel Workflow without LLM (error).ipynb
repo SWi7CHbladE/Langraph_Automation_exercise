{
 "cells": [
  {
   "cell_type": "markdown",
   "id": "c805bf19",
   "metadata": {},
   "source": [
    "# A Parallel workflow model\n",
    "Here we are attempting to create a parallel workflow model without using any LLM."
   ]
  },
  {
   "cell_type": "markdown",
   "id": "bc061262",
   "metadata": {},
   "source": [
    "### 1. Import dependencies"
   ]
  },
  {
   "cell_type": "code",
   "execution_count": null,
   "id": "9282af68",
   "metadata": {},
   "outputs": [],
   "source": [
    "from langgraph.graph import StateGraph, START, END\n",
    "from typing import TypedDict"
   ]
  },
  {
   "cell_type": "code",
   "execution_count": null,
   "id": "d7e737ee",
   "metadata": {},
   "outputs": [],
   "source": [
    "# For graphical visualization of the state graph\n",
    " \n",
    "import nest_asyncio\n",
    "nest_asyncio.apply()\n",
    "from langchain_core.runnables.graph import MermaidDrawMethod\n",
    "from IPython.display import Image"
   ]
  },
  {
   "cell_type": "markdown",
   "id": "e313cda2",
   "metadata": {},
   "source": [
    "### 2. Create a state"
   ]
  },
  {
   "cell_type": "code",
   "execution_count": null,
   "id": "c8efd95c",
   "metadata": {},
   "outputs": [],
   "source": [
    "class BatsmanState(TypedDict):                      # The BatsmanState inherits a TypedDict\n",
    "    runs: int\n",
    "    balls: int\n",
    "    fours: int\n",
    "    sixes: int  \n",
    "    strike_rate: float\n",
    "    boundaries_per_ball: float\n",
    "    boundary_percentage: float"
   ]
  },
  {
   "cell_type": "markdown",
   "id": "f4ea3905",
   "metadata": {},
   "source": [
    "### 3. Define the function for the graph node"
   ]
  },
  {
   "cell_type": "code",
   "execution_count": null,
   "id": "d57b95e6",
   "metadata": {},
   "outputs": [],
   "source": [
    "def calc_strike(state: BatsmanState) -> BatsmanState:\n",
    "    runs = state[\"runs\"]\n",
    "    balls = state[\"balls\"]\n",
    "\n",
    "    strike = runs/balls\n",
    "\n",
    "    state[\"strike_rate\"] = strike\n",
    "\n",
    "    return state\n",
    "\n",
    "def calc_bound_rate(state: BatsmanState) -> BatsmanState:\n",
    "    boundaries = state[\"fours\"] + state[\"sixes\"]\n",
    "    balls = state[\"balls\"]\n",
    "\n",
    "    bound_per_ball = boundaries/balls\n",
    "\n",
    "    state[\"boundaries_per_ball\"] = bound_per_ball\n",
    "\n",
    "    return state\n",
    "\n",
    "def calc_bound_percent(state: BatsmanState) -> BatsmanState:\n",
    "    boundaries = state[\"fours\"] + state[\"sixes\"]\n",
    "    runs = state[\"runs\"]\n",
    "\n",
    "    bound_percent = (boundaries * 100)/runs\n",
    "\n",
    "    state[\"boundary_percentage\"] = bound_percent\n",
    "\n",
    "    return state\n",
    "\n"
   ]
  },
  {
   "cell_type": "markdown",
   "id": "3356a0f8",
   "metadata": {},
   "source": [
    "### 4. Create the graph"
   ]
  },
  {
   "cell_type": "code",
   "execution_count": null,
   "id": "07cb083e",
   "metadata": {},
   "outputs": [],
   "source": [
    "# Declare the graph:\n",
    "graph = StateGraph(BatsmanState)\n",
    "\n",
    "# Add a nodes/states to the graph:\n",
    "graph.add_node(\"calc_strike\", calc_strike)\n",
    "graph.add_node(\"calc_bound_rate\", calc_bound_rate)\n",
    "graph.add_node(\"calc_bound_percent\", calc_bound_percent)\n",
    "\n",
    "\n",
    "# Add edges to the graph:\n",
    "graph.add_edge(START, 'calc_strike')\n",
    "graph.add_edge(START, 'calc_bound_rate')\n",
    "graph.add_edge(START, 'calc_bound_percent')\n",
    "\n",
    "graph.add_edge('calc_strike', END)\n",
    "graph.add_edge('calc_bound_rate', END)\n",
    "graph.add_edge('calc_bound_percent', END)"
   ]
  },
  {
   "cell_type": "markdown",
   "id": "2b197f1a",
   "metadata": {},
   "source": [
    "### 5. Compile the graph"
   ]
  },
  {
   "cell_type": "code",
   "execution_count": null,
   "id": "f34d65a6",
   "metadata": {},
   "outputs": [],
   "source": [
    "workflow = graph.compile()"
   ]
  },
  {
   "cell_type": "markdown",
   "id": "4caaf2e8",
   "metadata": {},
   "source": [
    "### 6. Run the code"
   ]
  },
  {
   "cell_type": "code",
   "execution_count": null,
   "id": "d4738a60",
   "metadata": {},
   "outputs": [],
   "source": [
    "initial_state = { \"runs\" : 50, \"balls\" : 12, \"fours\" : 2, \"sixes\" : 2  }\n",
    "\n",
    "final_state = workflow.invoke(initial_state)                                # This will cause an issue as the parallel nodes try to update the state, even if they are editing different keys.\n",
    "\n",
    "print(final_state)\n"
   ]
  },
  {
   "cell_type": "code",
   "execution_count": null,
   "id": "6df38274",
   "metadata": {},
   "outputs": [],
   "source": [
    "print(final_state[\"strike_rate\"])"
   ]
  },
  {
   "cell_type": "code",
   "execution_count": null,
   "id": "7e8d0370",
   "metadata": {},
   "outputs": [],
   "source": [
    "print(final_state[\"boundaries_per_ball\"])"
   ]
  },
  {
   "cell_type": "code",
   "execution_count": null,
   "id": "d60ecc90",
   "metadata": {},
   "outputs": [],
   "source": [
    "print(final_state[\"boundary_percentage\"])"
   ]
  },
  {
   "cell_type": "markdown",
   "id": "63a93c16",
   "metadata": {},
   "source": [
    "### 7. The Graph"
   ]
  },
  {
   "cell_type": "code",
   "execution_count": null,
   "id": "27e42322",
   "metadata": {},
   "outputs": [],
   "source": [
    "from IPython.display import Image\n",
    "Image(workflow.get_graph().draw_mermaid_png(draw_method=MermaidDrawMethod.PYPPETEER))"
   ]
  }
 ],
 "metadata": {
  "kernelspec": {
   "display_name": "llm",
   "language": "python",
   "name": "python3"
  },
  "language_info": {
   "codemirror_mode": {
    "name": "ipython",
    "version": 3
   },
   "file_extension": ".py",
   "mimetype": "text/x-python",
   "name": "python",
   "nbconvert_exporter": "python",
   "pygments_lexer": "ipython3",
   "version": "3.12.12"
  }
 },
 "nbformat": 4,
 "nbformat_minor": 5
}
