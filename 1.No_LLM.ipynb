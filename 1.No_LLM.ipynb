{
 "cells": [
  {
   "cell_type": "markdown",
   "id": "5573560f",
   "metadata": {},
   "source": [
    "# We are trying to create a LangGraph automation flow without the use of an LLM. "
   ]
  },
  {
   "cell_type": "code",
   "execution_count": 1,
   "id": "1d59011f",
   "metadata": {},
   "outputs": [],
   "source": [
    "# \n",
    "from langgraph.graph import StateGraph, START, END\n",
    "\n",
    "# Required for the state so that the values of the key value pair can be strongly typed\n",
    "from typing import TypedDict"
   ]
  },
  {
   "cell_type": "markdown",
   "id": "635db010",
   "metadata": {},
   "source": [
    "### 1. Define the state (memory passed between nodes)"
   ]
  },
  {
   "cell_type": "code",
   "execution_count": 2,
   "id": "11fc7c21",
   "metadata": {},
   "outputs": [],
   "source": [
    "# Here we define a state to be passed amongst the nodes to read and modify. The nodes are only allowed to pass on this state amongst themself.\n",
    "class BMI_state(TypedDict):\n",
    "    Height: float\n",
    "    Weight: float\n",
    "    BMI : float"
   ]
  },
  {
   "cell_type": "markdown",
   "id": "75bf27ba",
   "metadata": {},
   "source": [
    "### 2. Define graph nodes (Functions)"
   ]
  },
  {
   "cell_type": "code",
   "execution_count": 3,
   "id": "83f2441a",
   "metadata": {},
   "outputs": [],
   "source": [
    "def bmi_calculator(state: BMI_state) -> BMI_state:\n",
    "    state[\"BMI\"] = round(state[\"Weight\"]/(state[\"Height\"]**2), 2)\n",
    "    return state"
   ]
  },
  {
   "cell_type": "markdown",
   "id": "6456adb3",
   "metadata": {},
   "source": [
    "### 3. Declare the graph"
   ]
  },
  {
   "cell_type": "code",
   "execution_count": 4,
   "id": "c9d9495a",
   "metadata": {},
   "outputs": [],
   "source": [
    "# The StateGraph class of the langgraph.graph\n",
    "graph = StateGraph(BMI_state)"
   ]
  },
  {
   "cell_type": "markdown",
   "id": "7525ae2f",
   "metadata": {},
   "source": [
    "### 4. Add nodes to the graph"
   ]
  },
  {
   "cell_type": "code",
   "execution_count": 5,
   "id": "a1f108de",
   "metadata": {},
   "outputs": [
    {
     "data": {
      "text/plain": [
       "<langgraph.graph.state.StateGraph at 0x7e2fec447bc0>"
      ]
     },
     "execution_count": 5,
     "metadata": {},
     "output_type": "execute_result"
    }
   ],
   "source": [
    "graph.add_node(\"calculate_bmi\", bmi_calculator)"
   ]
  },
  {
   "cell_type": "markdown",
   "id": "fdcd790c",
   "metadata": {},
   "source": [
    "### 5. Add edges to the graph"
   ]
  },
  {
   "cell_type": "code",
   "execution_count": 6,
   "id": "21e293b6",
   "metadata": {},
   "outputs": [
    {
     "data": {
      "text/plain": [
       "<langgraph.graph.state.StateGraph at 0x7e2fec447bc0>"
      ]
     },
     "execution_count": 6,
     "metadata": {},
     "output_type": "execute_result"
    }
   ],
   "source": [
    "graph.add_edge(START, \"calculate_bmi\")\n",
    "graph.add_edge(\"calculate_bmi\", END)"
   ]
  },
  {
   "cell_type": "markdown",
   "id": "215c8477",
   "metadata": {},
   "source": [
    "### 6. Compile the graph"
   ]
  },
  {
   "cell_type": "code",
   "execution_count": 7,
   "id": "a3fa2544",
   "metadata": {},
   "outputs": [],
   "source": [
    "app = graph.compile()"
   ]
  },
  {
   "cell_type": "markdown",
   "id": "8737b586",
   "metadata": {},
   "source": [
    "### 7. Run the graph"
   ]
  },
  {
   "cell_type": "code",
   "execution_count": 8,
   "id": "c5cfb96a",
   "metadata": {},
   "outputs": [
    {
     "name": "stdout",
     "output_type": "stream",
     "text": [
      "{'Height': 1.8, 'Weight': 99, 'BMI': 30.56}\n"
     ]
    }
   ],
   "source": [
    "if __name__ == \"__main__\":\n",
    "    inputs = {\"Weight\": 99, \"Height\": 1.80}\n",
    "    output_state = app.invoke(inputs)\n",
    "    \n",
    "    print(output_state)\n",
    "    "
   ]
  },
  {
   "cell_type": "markdown",
   "id": "3431107f",
   "metadata": {},
   "source": [
    "### 8. Visualise graph"
   ]
  },
  {
   "cell_type": "code",
   "execution_count": 9,
   "id": "26e33840",
   "metadata": {},
   "outputs": [
    {
     "data": {
      "image/png": "[encoded data removed]",
      "text/plain": [
       "<IPython.core.display.Image object>"
      ]
     },
     "execution_count": 9,
     "metadata": {},
     "output_type": "execute_result"
    }
   ],
   "source": [
    "from IPython.display import Image\n",
    "Image(app.get_graph().draw_mermaid_png())"
   ]
  },
  {
   "cell_type": "code",
   "execution_count": null,
   "id": "50be567b",
   "metadata": {},
   "outputs": [],
   "source": []
  }
 ],
 "metadata": {
  "kernelspec": {
   "display_name": "llm",
   "language": "python",
   "name": "python3"
  },
  "language_info": {
   "codemirror_mode": {
    "name": "ipython",
    "version": 3
   },
   "file_extension": ".py",
   "mimetype": "text/x-python",
   "name": "python",
   "nbconvert_exporter": "python",
   "pygments_lexer": "ipython3",
   "version": "3.12.12"
  }
 },
 "nbformat": 4,
 "nbformat_minor": 5
}
