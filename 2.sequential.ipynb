{
 "cells": [
  {
   "cell_type": "markdown",
   "id": "c805bf19",
   "metadata": {},
   "source": [
    "# A sequential LLM app"
   ]
  },
  {
   "cell_type": "markdown",
   "id": "bc061262",
   "metadata": {},
   "source": [
    "### 1. Import dependencies"
   ]
  },
  {
   "cell_type": "code",
   "execution_count": 7,
   "id": "9282af68",
   "metadata": {},
   "outputs": [],
   "source": [
    "from langgraph.graph import StateGraph, START, END\n",
    "from langchain_ollama.chat_models import ChatOllama\n",
    "from typing import TypedDict"
   ]
  },
  {
   "cell_type": "markdown",
   "id": "8d27c2c4",
   "metadata": {},
   "source": [
    "### 2. Linking the model"
   ]
  },
  {
   "cell_type": "code",
   "execution_count": 2,
   "id": "cbe6fe93",
   "metadata": {},
   "outputs": [],
   "source": [
    "model = ChatOllama(model=\"gemma:2b\")"
   ]
  },
  {
   "cell_type": "markdown",
   "id": "e313cda2",
   "metadata": {},
   "source": [
    "### 3. Create a state"
   ]
  },
  {
   "cell_type": "code",
   "execution_count": null,
   "id": "c8efd95c",
   "metadata": {},
   "outputs": [],
   "source": [
    "class LLMState(TypedDict):                      # The LLMState inherits a TypedDict\n",
    "    question: str\n",
    "    answer: str"
   ]
  },
  {
   "cell_type": "markdown",
   "id": "f4ea3905",
   "metadata": {},
   "source": [
    "### 4. Define the function for the graph node"
   ]
  },
  {
   "cell_type": "code",
   "execution_count": null,
   "id": "d57b95e6",
   "metadata": {},
   "outputs": [],
   "source": [
    "def llm_qa(state: LLMState) -> LLMState:\n",
    "    # Extract the question from the state\n",
    "    question = state[\"question\"]\n",
    "\n",
    "\n",
    "    # Form a prompt\n",
    "    prompt = f\"Answer the following question:\\n{question}\"\n",
    "\n",
    "\n",
    "    # Ask the question to the model\n",
    "    answer = model.invoke(prompt).content\n",
    "\n",
    "\n",
    "    # Update the state with the answer\n",
    "    state['answer'] = answer\n",
    "\n",
    "    return state"
   ]
  },
  {
   "cell_type": "markdown",
   "id": "3356a0f8",
   "metadata": {},
   "source": [
    "### 5. Create the graph"
   ]
  },
  {
   "cell_type": "code",
   "execution_count": 9,
   "id": "07cb083e",
   "metadata": {},
   "outputs": [
    {
     "data": {
      "text/plain": [
       "<langgraph.graph.state.StateGraph at 0x758bfe384650>"
      ]
     },
     "execution_count": 9,
     "metadata": {},
     "output_type": "execute_result"
    }
   ],
   "source": [
    "# Declare the graph:\n",
    "graph = StateGraph(LLMState)                    # The StateGraph takes the state as a parameter, signifying that the \"state\" will be exchanged between the nodes through the edges.\n",
    "\n",
    "# Add a nodes/states to the graph:\n",
    "graph.add_node(\"llm_qa\", llm_qa)\n",
    "\n",
    "# Add edges to the graph:\n",
    "graph.add_edge(START, 'llm_qa')\n",
    "graph.add_edge('llm_qa', END)"
   ]
  },
  {
   "cell_type": "markdown",
   "id": "2b197f1a",
   "metadata": {},
   "source": [
    "### 6. Compile the graph"
   ]
  },
  {
   "cell_type": "code",
   "execution_count": 10,
   "id": "f34d65a6",
   "metadata": {},
   "outputs": [],
   "source": [
    "workflow = graph.compile()"
   ]
  },
  {
   "cell_type": "markdown",
   "id": "4caaf2e8",
   "metadata": {},
   "source": [
    "### 7. Run the code"
   ]
  },
  {
   "cell_type": "code",
   "execution_count": 14,
   "id": "d4738a60",
   "metadata": {},
   "outputs": [
    {
     "name": "stdout",
     "output_type": "stream",
     "text": [
      "{'question': 'Tell me about Ollama the software', 'answer': '**What is Ollama?**\\n\\nOllama is a free and open-source software platform that helps non-profit, social, and educational organizations manage and track their fundraising activities. It is designed to be user-friendly and integrate seamlessly with various fundraising platforms and accounting systems.'}\n"
     ]
    }
   ],
   "source": [
    "initial_state = { \"question\" : \"Tell me about Ollama the software\" }\n",
    "\n",
    "final_state = workflow.invoke(initial_state)\n",
    "\n",
    "print(final_state)\n"
   ]
  },
  {
   "cell_type": "code",
   "execution_count": 15,
   "id": "7e8d0370",
   "metadata": {},
   "outputs": [
    {
     "name": "stdout",
     "output_type": "stream",
     "text": [
      "**What is Ollama?**\n",
      "\n",
      "Ollama is a free and open-source software platform that helps non-profit, social, and educational organizations manage and track their fundraising activities. It is designed to be user-friendly and integrate seamlessly with various fundraising platforms and accounting systems.\n"
     ]
    }
   ],
   "source": [
    "print(final_state[\"answer\"])"
   ]
  },
  {
   "cell_type": "code",
   "execution_count": null,
   "id": "896e5383",
   "metadata": {},
   "outputs": [],
   "source": []
  }
 ],
 "metadata": {
  "kernelspec": {
   "display_name": "llm",
   "language": "python",
   "name": "python3"
  },
  "language_info": {
   "codemirror_mode": {
    "name": "ipython",
    "version": 3
   },
   "file_extension": ".py",
   "mimetype": "text/x-python",
   "name": "python",
   "nbconvert_exporter": "python",
   "pygments_lexer": "ipython3",
   "version": "3.12.12"
  }
 },
 "nbformat": 4,
 "nbformat_minor": 5
}
