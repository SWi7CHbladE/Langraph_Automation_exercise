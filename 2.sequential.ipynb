{
 "cells": [
  {
   "cell_type": "markdown",
   "id": "c805bf19",
   "metadata": {},
   "source": [
    "# A sequential LLM app"
   ]
  },
  {
   "cell_type": "markdown",
   "id": "bc061262",
   "metadata": {},
   "source": [
    "### 1. Import dependencies"
   ]
  },
  {
   "cell_type": "code",
   "execution_count": 1,
   "id": "9282af68",
   "metadata": {},
   "outputs": [],
   "source": [
    "from langgraph.graph import StateGraph, START, END\n",
    "from langchain_ollama.chat_models import ChatOllama\n",
    "from typing import TypedDict"
   ]
  },
  {
   "cell_type": "code",
   "execution_count": 2,
   "id": "9e52a279",
   "metadata": {},
   "outputs": [],
   "source": [
    "# For graphical visualization of the state graph\n",
    " \n",
    "import nest_asyncio\n",
    "nest_asyncio.apply()\n",
    "from langchain_core.runnables.graph import MermaidDrawMethod\n",
    "from IPython.display import Image"
   ]
  },
  {
   "cell_type": "markdown",
   "id": "8d27c2c4",
   "metadata": {},
   "source": [
    "### 2. Linking the model"
   ]
  },
  {
   "cell_type": "code",
   "execution_count": 3,
   "id": "cbe6fe93",
   "metadata": {},
   "outputs": [],
   "source": [
    "model = ChatOllama(model=\"gemma:2b\")"
   ]
  },
  {
   "cell_type": "markdown",
   "id": "e313cda2",
   "metadata": {},
   "source": [
    "### 3. Create a state"
   ]
  },
  {
   "cell_type": "code",
   "execution_count": 4,
   "id": "c8efd95c",
   "metadata": {},
   "outputs": [],
   "source": [
    "class LLMState(TypedDict):                      # The LLMState inherits a TypedDict\n",
    "    question: str\n",
    "    answer: str"
   ]
  },
  {
   "cell_type": "markdown",
   "id": "f4ea3905",
   "metadata": {},
   "source": [
    "### 4. Define the function for the graph node"
   ]
  },
  {
   "cell_type": "code",
   "execution_count": 5,
   "id": "d57b95e6",
   "metadata": {},
   "outputs": [],
   "source": [
    "def llm_qa(state: LLMState) -> LLMState:\n",
    "    # Extract the question from the state\n",
    "    question = state[\"question\"]\n",
    "\n",
    "\n",
    "    # Form a prompt\n",
    "    prompt = f\"Answer the following question:\\n{question}\"\n",
    "\n",
    "\n",
    "    # Ask the question to the model\n",
    "    answer = model.invoke(prompt).content\n",
    "\n",
    "\n",
    "    # Update the state with the answer\n",
    "    state['answer'] = answer\n",
    "\n",
    "    return state"
   ]
  },
  {
   "cell_type": "markdown",
   "id": "3356a0f8",
   "metadata": {},
   "source": [
    "### 5. Create the graph"
   ]
  },
  {
   "cell_type": "code",
   "execution_count": 6,
   "id": "07cb083e",
   "metadata": {},
   "outputs": [
    {
     "data": {
      "text/plain": [
       "<langgraph.graph.state.StateGraph at 0x7250597b6900>"
      ]
     },
     "execution_count": 6,
     "metadata": {},
     "output_type": "execute_result"
    }
   ],
   "source": [
    "# Declare the graph:\n",
    "graph = StateGraph(LLMState)                    # The StateGraph takes the state as a parameter, signifying that the \"state\" will be exchanged between the nodes through the edges.\n",
    "\n",
    "# Add a nodes/states to the graph:\n",
    "graph.add_node(\"llm_qa\", llm_qa)\n",
    "\n",
    "# Add edges to the graph:\n",
    "graph.add_edge(START, 'llm_qa')\n",
    "graph.add_edge('llm_qa', END)"
   ]
  },
  {
   "cell_type": "markdown",
   "id": "2b197f1a",
   "metadata": {},
   "source": [
    "### 6. Compile the graph"
   ]
  },
  {
   "cell_type": "code",
   "execution_count": 7,
   "id": "f34d65a6",
   "metadata": {},
   "outputs": [],
   "source": [
    "workflow = graph.compile()"
   ]
  },
  {
   "cell_type": "markdown",
   "id": "4caaf2e8",
   "metadata": {},
   "source": [
    "### 7. Run the code"
   ]
  },
  {
   "cell_type": "code",
   "execution_count": 8,
   "id": "d4738a60",
   "metadata": {},
   "outputs": [
    {
     "name": "stdout",
     "output_type": "stream",
     "text": [
      "{'question': 'Tell me about Ollama the software', 'answer': \"Sure, here's a summary of Ollama software:\\n\\n**What is Ollama?**\\n\\nOllama is a software solution that helps people with intellectual and developmental disabilities (IDD) and autism to communicate and socialize more effectively. It uses a variety of tools and technologies to provide a personalized and interactive learning experience.\\n\\n**Key features of Ollama:**\\n\\n* **Communication tools:** Ollama offers a range of tools for individuals with IDD and autism to express themselves, including voice, text, and visual communication methods. These tools can be used to communicate both verbally and nonverbally.\\n* **Social skills training:** Ollama's social skills training tools focus on teaching individuals how to interact with others in a positive and meaningful way. These tools can help individuals with IDD and autism build social skills, improve their relationships, and reduce challenging behaviors.\\n* **Personalized learning:** Ollama is highly customizable to meet individual needs. The software can be tailored to cater to specific strengths and areas for improvement.\\n* **Technology integration:** Ollama integrates with various assistive technology devices, such as communication boards, tablets, and smart speakers. This integration allows individuals with IDD and autism to access Ollama's features and tools directly from their devices.\\n\\n**Benefits of using Ollama:**\\n\\n* Improved communication and social skills\\n* Reduced challenging behaviors\\n* Enhanced self-esteem and confidence\\n* Increased independence and social participation\\n* Reduced anxiety and stress\\n\\n**Who can benefit from Ollama?**\\n\\nOllama is suitable for individuals with IDD and autism of all ages and abilities. It can be used in various settings, such as schools, homes, and community centers.\\n\\n**Conclusion:**\\n\\nOllama is a comprehensive software solution that can provide valuable support for individuals with IDD and autism. By focusing on communication, social skills, and personalized learning, Ollama helps individuals build the skills they need to express themselves, interact with others, and thrive in their daily lives.\"}\n"
     ]
    }
   ],
   "source": [
    "initial_state = { \"question\" : \"Tell me about Ollama the software\" }\n",
    "\n",
    "final_state = workflow.invoke(initial_state)\n",
    "\n",
    "print(final_state)\n"
   ]
  },
  {
   "cell_type": "code",
   "execution_count": 9,
   "id": "7e8d0370",
   "metadata": {},
   "outputs": [
    {
     "name": "stdout",
     "output_type": "stream",
     "text": [
      "Sure, here's a summary of Ollama software:\n",
      "\n",
      "**What is Ollama?**\n",
      "\n",
      "Ollama is a software solution that helps people with intellectual and developmental disabilities (IDD) and autism to communicate and socialize more effectively. It uses a variety of tools and technologies to provide a personalized and interactive learning experience.\n",
      "\n",
      "**Key features of Ollama:**\n",
      "\n",
      "* **Communication tools:** Ollama offers a range of tools for individuals with IDD and autism to express themselves, including voice, text, and visual communication methods. These tools can be used to communicate both verbally and nonverbally.\n",
      "* **Social skills training:** Ollama's social skills training tools focus on teaching individuals how to interact with others in a positive and meaningful way. These tools can help individuals with IDD and autism build social skills, improve their relationships, and reduce challenging behaviors.\n",
      "* **Personalized learning:** Ollama is highly customizable to meet individual needs. The software can be tailored to cater to specific strengths and areas for improvement.\n",
      "* **Technology integration:** Ollama integrates with various assistive technology devices, such as communication boards, tablets, and smart speakers. This integration allows individuals with IDD and autism to access Ollama's features and tools directly from their devices.\n",
      "\n",
      "**Benefits of using Ollama:**\n",
      "\n",
      "* Improved communication and social skills\n",
      "* Reduced challenging behaviors\n",
      "* Enhanced self-esteem and confidence\n",
      "* Increased independence and social participation\n",
      "* Reduced anxiety and stress\n",
      "\n",
      "**Who can benefit from Ollama?**\n",
      "\n",
      "Ollama is suitable for individuals with IDD and autism of all ages and abilities. It can be used in various settings, such as schools, homes, and community centers.\n",
      "\n",
      "**Conclusion:**\n",
      "\n",
      "Ollama is a comprehensive software solution that can provide valuable support for individuals with IDD and autism. By focusing on communication, social skills, and personalized learning, Ollama helps individuals build the skills they need to express themselves, interact with others, and thrive in their daily lives.\n"
     ]
    }
   ],
   "source": [
    "print(final_state[\"answer\"])"
   ]
  },
  {
   "cell_type": "markdown",
   "id": "6eaac42f",
   "metadata": {},
   "source": [
    "### 8. Graph"
   ]
  },
  {
   "cell_type": "code",
   "execution_count": 10,
   "id": "896e5383",
   "metadata": {},
   "outputs": [
    {
     "data": {
      "image/png": "[encoded data removed]",
      "text/plain": [
       "<IPython.core.display.Image object>"
      ]
     },
     "execution_count": 10,
     "metadata": {},
     "output_type": "execute_result"
    }
   ],
   "source": [
    "from IPython.display import Image\n",
    "Image(workflow.get_graph().draw_mermaid_png(draw_method=MermaidDrawMethod.PYPPETEER))"
   ]
  }
 ],
 "metadata": {
  "kernelspec": {
   "display_name": "llm",
   "language": "python",
   "name": "python3"
  },
  "language_info": {
   "codemirror_mode": {
    "name": "ipython",
    "version": 3
   },
   "file_extension": ".py",
   "mimetype": "text/x-python",
   "name": "python",
   "nbconvert_exporter": "python",
   "pygments_lexer": "ipython3",
   "version": "3.12.12"
  }
 },
 "nbformat": 4,
 "nbformat_minor": 5
}
