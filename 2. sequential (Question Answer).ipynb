{
 "cells": [
  {
   "cell_type": "markdown",
   "id": "c805bf19",
   "metadata": {},
   "source": [
    "# A sequential LLM app"
   ]
  },
  {
   "cell_type": "markdown",
   "id": "bc061262",
   "metadata": {},
   "source": [
    "### 1. Import dependencies"
   ]
  },
  {
   "cell_type": "code",
   "execution_count": 1,
   "id": "9282af68",
   "metadata": {},
   "outputs": [],
   "source": [
    "from langgraph.graph import StateGraph, START, END\n",
    "from langchain_ollama.chat_models import ChatOllama\n",
    "from typing import TypedDict"
   ]
  },
  {
   "cell_type": "code",
   "execution_count": 2,
   "id": "9e52a279",
   "metadata": {},
   "outputs": [],
   "source": [
    "# For graphical visualization of the state graph\n",
    " \n",
    "import nest_asyncio\n",
    "nest_asyncio.apply()\n",
    "from langchain_core.runnables.graph import MermaidDrawMethod\n",
    "from IPython.display import Image"
   ]
  },
  {
   "cell_type": "markdown",
   "id": "8d27c2c4",
   "metadata": {},
   "source": [
    "### 2. Linking the model"
   ]
  },
  {
   "cell_type": "code",
   "execution_count": 3,
   "id": "cbe6fe93",
   "metadata": {},
   "outputs": [],
   "source": [
    "model = ChatOllama(model=\"gemma:2b\")"
   ]
  },
  {
   "cell_type": "markdown",
   "id": "e313cda2",
   "metadata": {},
   "source": [
    "### 3. Create a state"
   ]
  },
  {
   "cell_type": "code",
   "execution_count": 4,
   "id": "c8efd95c",
   "metadata": {},
   "outputs": [],
   "source": [
    "class LLMState(TypedDict):                      # The LLMState inherits a TypedDict\n",
    "    question: str\n",
    "    answer: str"
   ]
  },
  {
   "cell_type": "markdown",
   "id": "f4ea3905",
   "metadata": {},
   "source": [
    "### 4. Define the function for the graph node"
   ]
  },
  {
   "cell_type": "code",
   "execution_count": 5,
   "id": "d57b95e6",
   "metadata": {},
   "outputs": [],
   "source": [
    "def llm_qa(state: LLMState) -> LLMState:\n",
    "    # Extract the question from the state\n",
    "    question = state[\"question\"]\n",
    "\n",
    "\n",
    "    # Form a prompt\n",
    "    prompt = f\"Answer the following question:\\n{question}\"\n",
    "\n",
    "\n",
    "    # Ask the question to the model\n",
    "    answer = model.invoke(prompt).content\n",
    "\n",
    "\n",
    "    # Update the state with the answer\n",
    "    state['answer'] = answer\n",
    "\n",
    "    return state"
   ]
  },
  {
   "cell_type": "markdown",
   "id": "3356a0f8",
   "metadata": {},
   "source": [
    "### 5. Create the graph"
   ]
  },
  {
   "cell_type": "code",
   "execution_count": 6,
   "id": "07cb083e",
   "metadata": {},
   "outputs": [
    {
     "data": {
      "text/plain": [
       "<langgraph.graph.state.StateGraph at 0x7c8f341aa930>"
      ]
     },
     "execution_count": 6,
     "metadata": {},
     "output_type": "execute_result"
    }
   ],
   "source": [
    "# Declare the graph:\n",
    "graph = StateGraph(LLMState)                    # The StateGraph takes the state as a parameter, signifying that the \"state\" will be exchanged between the nodes through the edges.\n",
    "\n",
    "# Add a nodes/states to the graph:\n",
    "graph.add_node(\"llm_qa\", llm_qa)\n",
    "\n",
    "# Add edges to the graph:\n",
    "graph.add_edge(START, 'llm_qa')\n",
    "graph.add_edge('llm_qa', END)"
   ]
  },
  {
   "cell_type": "markdown",
   "id": "2b197f1a",
   "metadata": {},
   "source": [
    "### 6. Compile the graph"
   ]
  },
  {
   "cell_type": "code",
   "execution_count": 7,
   "id": "f34d65a6",
   "metadata": {},
   "outputs": [],
   "source": [
    "workflow = graph.compile()"
   ]
  },
  {
   "cell_type": "markdown",
   "id": "6eaac42f",
   "metadata": {},
   "source": [
    "### 7. Graph"
   ]
  },
  {
   "cell_type": "code",
   "execution_count": 8,
   "id": "5841e2e3",
   "metadata": {},
   "outputs": [
    {
     "data": {
      "image/png": "[encoded data removed]",
      "text/plain": [
       "<IPython.core.display.Image object>"
      ]
     },
     "execution_count": 8,
     "metadata": {},
     "output_type": "execute_result"
    }
   ],
   "source": [
    "from IPython.display import Image\n",
    "Image(workflow.get_graph().draw_mermaid_png(draw_method=MermaidDrawMethod.PYPPETEER))"
   ]
  },
  {
   "cell_type": "markdown",
   "id": "4caaf2e8",
   "metadata": {},
   "source": [
    "### 8. Run the code"
   ]
  },
  {
   "cell_type": "code",
   "execution_count": 9,
   "id": "d4738a60",
   "metadata": {},
   "outputs": [
    {
     "name": "stdout",
     "output_type": "stream",
     "text": [
      "{'question': 'Tell me about Ollama the software', 'answer': \"Sure! Here is a summary of Ollama software:\\n\\n**Ollama** is a project-based software development platform that empowers organizations to build, deploy, and manage complex software solutions efficiently. It helps streamline workflows, improve communication, and enhance collaboration between teams.\\n\\n**Key features of Ollama include:**\\n\\n* **Project Management:** It provides a central hub for managing multiple projects, including requirements gathering, design, development, testing, and deployment.\\n* **Document Management:** Ollama facilitates the creation and management of comprehensive documentation, ensuring a clear and consistent understanding of the software solution.\\n* **Communication Platform:** It enables seamless communication between stakeholders, including developers, testers, customers, and management.\\n* **Customization:** Ollama is highly customizable, allowing organizations to tailor the software development process to meet their specific requirements.\\n* **Mobile Support:** The platform is mobile-friendly, ensuring that development and collaboration can be done on the go.\\n* **Integration Capabilities:** Ollama integrates with various tools and systems, such as Jira, Microsoft Azure DevOps, and Confluence, streamlining data flow and workflow.\\n* **Reporting and Analytics:** It provides comprehensive reporting and analytics capabilities, enabling organizations to track project progress, identify areas for improvement, and make informed decisions.\\n\\n**Benefits of using Ollama include:**\\n\\n* **Reduced development time and costs:** By streamlining the software development process, Ollama can help organizations shorten the time to market and reduce development expenses.\\n* **Improved software quality:** The platform's comprehensive features and documentation facilitate quality assurance, reducing the risk of defects and improving software reliability.\\n* **Enhanced collaboration:** Ollama promotes collaboration between teams, allowing them to work together seamlessly and efficiently.\\n* **Reduced project risks:** By identifying potential issues and bottlenecks early on, Ollama helps organizations mitigate risks and ensure a successful project launch.\\n* **Increased visibility and control:** The platform provides visibility into the entire software development process, giving organizations complete control over their projects.\\n\\n**Industries that can benefit from Ollama include:**\\n\\n* Software development\\n* Technology\\n* Manufacturing\\n* Healthcare\\n* Financial services\\n* Telecommunications\\n\\n**Overall, Ollama is a powerful software development platform that can help organizations of all sizes build, deploy, and manage complex software solutions efficiently.**\"}\n"
     ]
    }
   ],
   "source": [
    "initial_state = { \"question\" : \"Tell me about Ollama the software\" }\n",
    "\n",
    "final_state = workflow.invoke(initial_state)\n",
    "\n",
    "print(final_state)\n"
   ]
  },
  {
   "cell_type": "code",
   "execution_count": 10,
   "id": "7e8d0370",
   "metadata": {},
   "outputs": [
    {
     "name": "stdout",
     "output_type": "stream",
     "text": [
      "Sure! Here is a summary of Ollama software:\n",
      "\n",
      "**Ollama** is a project-based software development platform that empowers organizations to build, deploy, and manage complex software solutions efficiently. It helps streamline workflows, improve communication, and enhance collaboration between teams.\n",
      "\n",
      "**Key features of Ollama include:**\n",
      "\n",
      "* **Project Management:** It provides a central hub for managing multiple projects, including requirements gathering, design, development, testing, and deployment.\n",
      "* **Document Management:** Ollama facilitates the creation and management of comprehensive documentation, ensuring a clear and consistent understanding of the software solution.\n",
      "* **Communication Platform:** It enables seamless communication between stakeholders, including developers, testers, customers, and management.\n",
      "* **Customization:** Ollama is highly customizable, allowing organizations to tailor the software development process to meet their specific requirements.\n",
      "* **Mobile Support:** The platform is mobile-friendly, ensuring that development and collaboration can be done on the go.\n",
      "* **Integration Capabilities:** Ollama integrates with various tools and systems, such as Jira, Microsoft Azure DevOps, and Confluence, streamlining data flow and workflow.\n",
      "* **Reporting and Analytics:** It provides comprehensive reporting and analytics capabilities, enabling organizations to track project progress, identify areas for improvement, and make informed decisions.\n",
      "\n",
      "**Benefits of using Ollama include:**\n",
      "\n",
      "* **Reduced development time and costs:** By streamlining the software development process, Ollama can help organizations shorten the time to market and reduce development expenses.\n",
      "* **Improved software quality:** The platform's comprehensive features and documentation facilitate quality assurance, reducing the risk of defects and improving software reliability.\n",
      "* **Enhanced collaboration:** Ollama promotes collaboration between teams, allowing them to work together seamlessly and efficiently.\n",
      "* **Reduced project risks:** By identifying potential issues and bottlenecks early on, Ollama helps organizations mitigate risks and ensure a successful project launch.\n",
      "* **Increased visibility and control:** The platform provides visibility into the entire software development process, giving organizations complete control over their projects.\n",
      "\n",
      "**Industries that can benefit from Ollama include:**\n",
      "\n",
      "* Software development\n",
      "* Technology\n",
      "* Manufacturing\n",
      "* Healthcare\n",
      "* Financial services\n",
      "* Telecommunications\n",
      "\n",
      "**Overall, Ollama is a powerful software development platform that can help organizations of all sizes build, deploy, and manage complex software solutions efficiently.**\n"
     ]
    }
   ],
   "source": [
    "print(final_state[\"answer\"])"
   ]
  }
 ],
 "metadata": {
  "kernelspec": {
   "display_name": "llm",
   "language": "python",
   "name": "python3"
  },
  "language_info": {
   "codemirror_mode": {
    "name": "ipython",
    "version": 3
   },
   "file_extension": ".py",
   "mimetype": "text/x-python",
   "name": "python",
   "nbconvert_exporter": "python",
   "pygments_lexer": "ipython3",
   "version": "3.12.12"
  }
 },
 "nbformat": 4,
 "nbformat_minor": 5
}
