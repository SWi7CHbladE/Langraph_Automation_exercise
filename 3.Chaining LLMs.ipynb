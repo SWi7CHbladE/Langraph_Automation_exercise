{
 "cells": [
  {
   "cell_type": "markdown",
   "id": "c805bf19",
   "metadata": {},
   "source": [
    "# A chained LLM app\n",
    "Here we are attempting to generate a blog using LangGraph. The LLM will first be prompted to generate an outline. The LLM will then elaborate upon the outline to give us a finished blog."
   ]
  },
  {
   "cell_type": "markdown",
   "id": "bc061262",
   "metadata": {},
   "source": [
    "### 1. Import dependencies"
   ]
  },
  {
   "cell_type": "code",
   "execution_count": 1,
   "id": "9282af68",
   "metadata": {},
   "outputs": [],
   "source": [
    "from langgraph.graph import StateGraph, START, END\n",
    "from langchain_ollama.chat_models import ChatOllama\n",
    "from typing import TypedDict"
   ]
  },
  {
   "cell_type": "code",
   "execution_count": 2,
   "id": "5aa2d57e",
   "metadata": {},
   "outputs": [],
   "source": [
    "# For graphical visualization of the state graph\n",
    " \n",
    "import nest_asyncio\n",
    "nest_asyncio.apply()\n",
    "from langchain_core.runnables.graph import MermaidDrawMethod\n",
    "from IPython.display import Image"
   ]
  },
  {
   "cell_type": "markdown",
   "id": "8d27c2c4",
   "metadata": {},
   "source": [
    "### 2. Linking the model"
   ]
  },
  {
   "cell_type": "code",
   "execution_count": 3,
   "id": "cbe6fe93",
   "metadata": {},
   "outputs": [],
   "source": [
    "model = ChatOllama(model=\"gemma:2b\")"
   ]
  },
  {
   "cell_type": "markdown",
   "id": "e313cda2",
   "metadata": {},
   "source": [
    "### 3. Create a state"
   ]
  },
  {
   "cell_type": "code",
   "execution_count": 4,
   "id": "c8efd95c",
   "metadata": {},
   "outputs": [],
   "source": [
    "class BlogState(TypedDict):                      # The BlogState inherits a TypedDict\n",
    "    topic: str\n",
    "    outline: str\n",
    "    blog: str"
   ]
  },
  {
   "cell_type": "markdown",
   "id": "f4ea3905",
   "metadata": {},
   "source": [
    "### 4. Define the function for the graph node"
   ]
  },
  {
   "cell_type": "code",
   "execution_count": null,
   "id": "d57b95e6",
   "metadata": {},
   "outputs": [],
   "source": [
    "def llm_outline(state: BlogState) -> BlogState:\n",
    "    # Extract the question from the state\n",
    "    topic = state[\"topic\"]\n",
    "\n",
    "\n",
    "    # Form a prompt\n",
    "    prompt = f\"I require an outline for a blog on {topic}.\"\n",
    "\n",
    "\n",
    "    # Ask the question to the model\n",
    "    outline = model.invoke(prompt).content\n",
    "\n",
    "\n",
    "    # Update the state with the answer\n",
    "    state['outline'] = outline\n",
    "\n",
    "    return state\n",
    "\n",
    "\n",
    "def llm_blog(state: BlogState) -> BlogState:\n",
    "    # Extract the outline from the state\n",
    "    outline = state[\"outline\"]\n",
    "\n",
    "\n",
    "    # Form a prompt\n",
    "    prompt = f\"Write a detailed blog based on the following outline:\\n{outline}\"\n",
    "\n",
    "\n",
    "    # Ask the question to the model\n",
    "    blog = model.invoke(prompt).content\n",
    "\n",
    "\n",
    "    # Update the state with the answer\n",
    "    state[\"blog\"] = blog\n",
    "\n",
    "    return state"
   ]
  },
  {
   "cell_type": "markdown",
   "id": "3356a0f8",
   "metadata": {},
   "source": [
    "### 5. Create the graph"
   ]
  },
  {
   "cell_type": "code",
   "execution_count": 6,
   "id": "07cb083e",
   "metadata": {},
   "outputs": [
    {
     "data": {
      "text/plain": [
       "<langgraph.graph.state.StateGraph at 0x7725797ada30>"
      ]
     },
     "execution_count": 6,
     "metadata": {},
     "output_type": "execute_result"
    }
   ],
   "source": [
    "# Declare the graph:\n",
    "graph = StateGraph(BlogState)                    # The StateGraph takes the state as a parameter, signifying that the \"state\" will be exchanged between the nodes through the edges.\n",
    "\n",
    "# Add a nodes/states to the graph:\n",
    "graph.add_node(\"llm_outline\", llm_outline)\n",
    "graph.add_node(\"llm_blog\", llm_blog)\n",
    "\n",
    "\n",
    "# Add edges to the graph:\n",
    "graph.add_edge(START, 'llm_outline')\n",
    "graph.add_edge('llm_outline', 'llm_blog')\n",
    "graph.add_edge('llm_blog', END)"
   ]
  },
  {
   "cell_type": "markdown",
   "id": "2b197f1a",
   "metadata": {},
   "source": [
    "### 6. Compile the graph"
   ]
  },
  {
   "cell_type": "code",
   "execution_count": 7,
   "id": "f34d65a6",
   "metadata": {},
   "outputs": [],
   "source": [
    "workflow = graph.compile()"
   ]
  },
  {
   "cell_type": "markdown",
   "id": "4caaf2e8",
   "metadata": {},
   "source": [
    "### 7. Run the code"
   ]
  },
  {
   "cell_type": "code",
   "execution_count": 8,
   "id": "d4738a60",
   "metadata": {},
   "outputs": [
    {
     "name": "stdout",
     "output_type": "stream",
     "text": [
      "{'topic': 'Motorcycles', 'outline': '## Motorcycle Blog Outline\\n\\n**I. Introduction**\\n    a. History of motorcycles\\n    b. Different types of motorcycles\\n    c. The allure of motorcycles\\n\\n**II. Motorcycle Maintenance and Care**\\n    a. Essential maintenance tasks\\n    b. How to read a motorcycle manual\\n    c. Basic repair skills for beginners\\n    d. Choosing the right tires\\n\\n**III. Riding and Riding Techniques**\\n    a. Basic riding skills\\n    b. Highway riding and long-distance riding\\n    c. Motorcycle safety and awareness\\n    d. Advanced riding techniques\\n\\n**IV. Motorcycle Reviews and Comparisons**\\n    a. Comparing new and used motorcycles\\n    b. In-depth reviews of specific models\\n    c. Features and technology advancements\\n\\n**V. Motorcycle Culture and Lifestyle**\\n    a. Motorcycle clubs and communities\\n    b. Riding and racing events\\n    c. Motorcycle customization and modification\\n    d. The history of motorcycles in different cultures\\n\\n**VI. Motorcycle History and Milestones**\\n    a. Birth of the motorcycle\\n    b. Major milestones in motorcycle design and production\\n    c. Motorcycles and historical figures\\n\\n**VII. Buying and Selling Motorcycles**\\n    a. Choosing the right motorcycle\\n    b. Understanding trade-ins and warranties\\n    c. The process of buying and selling a motorcycle\\n\\n**VIII. Motorcycle Accessories and Modifications**\\n    a. Different types of motorcycle accessories\\n    b. Modifying and enhancing your motorcycle\\n    c. Choosing the right accessories for your needs\\n\\n**IX. Motorcycle Maintenance and Repair**\\n    a. Troubleshooting common motorcycle problems\\n    b. How to use a multimeter\\n    c. DIY motorcycle repairs\\n    d. Hiring a professional mechanic\\n\\n**X. Conclusion**\\n    a. The future of motorcycles\\n    b. Tips for staying safe and enjoying your motorcycle\\n    c. Resources for further motorcycle information and support', 'blog': \"**Motorcycle Blog: A Comprehensive Guide for New and Experienced Riders**\\n\\n**I. Introduction**\\n\\n**a. History of Motorcycles:**\\n- The invention of the motorcycle, from its humble beginnings to its modern-day sophistication.\\n- A brief overview of significant milestones in motorcycle history, from the first steam-powered machines to the modern-day superbike.\\n\\n**b. Different Types of Motorcycles:**\\n- Categorizing motorcycles based on size, power, and purpose.\\n- Describing the differences between cruisers, sport bikes, naked bikes, and touring motorcycles.\\n\\n**c. The Lure of Motorcycles:**\\n- Exploring the allure of motorcycles for both practical and aesthetic reasons.\\n- Discussing the sense of freedom, adventure, and individuality that motorcycles offer.\\n\\n**II. Motorcycle Maintenance and Care**\\n\\n**a. Essential Maintenance Tasks:**\\n- Regular cleaning and maintenance, including oil changes, tire rotations, and inspection of lights, brakes, and fluids.\\n- Importance of using the appropriate tools and techniques for motorcycle maintenance.\\n\\n**b. Reading a Motorcycle Manual:**\\n- Understanding the motorcycle's manual and its different sections, including maintenance schedules, operating instructions, and troubleshooting guides.\\n- How to use maintenance charts, identify parts, and understand diagnostic codes.\\n\\n**c. Basic Repair Skills for Beginners:**\\n- Learning essential repair skills, such as replacing a spark plug, checking tire pressure, or changing a tire.\\n- Providing basic repair tips and resources for motorcycle enthusiasts.\\n\\n**d. Choosing the Right Tires:**\\n- Understanding the importance of tires in motorcycle performance and safety.\\n- Choosing the right tires based on riding conditions, weather, and intended use.\\n\\n**III. Riding and Riding Techniques**\\n\\n**a. Basic Riding Skills:**\\n- Understanding basic motorcycle controls, including the clutch, throttle, gear shifter, and brakes.\\n- Basic riding maneuvers, such as starting, stopping, turning, and maneuvering in different conditions.\\n\\n**b. Highway Riding and Long-Distance Riding:**\\n- Techniques for safe and efficient highway riding, including maintaining speed, fuel efficiency, and reducing fatigue.\\n- Tips for long-distance riding, including rest stops, hydration, and navigation.\\n\\n**c. Motorcycle Safety and Awareness:**\\n- The importance of wearing protective gear, following traffic laws, and being aware of surroundings.\\n- Understanding motorcycle signals, mirrors, and other safety features.\\n\\n**d. Advanced Riding Techniques:**\\n- Techniques for advanced riders, such as riding in adverse weather conditions, handling complex terrain, and participating in motorcycle racing.\\n\\n**IV. Motorcycle Reviews and Comparisons**\\n\\n**a. Comparing New and Used Motorcycles:**\\n- Evaluating the pros and cons of both new and used motorcycles, including price, condition, performance, and safety.\\n- Providing a comparative guide to help buyers make informed decisions.\\n\\n**b. In-Depth Reviews of Specific Models:**\\n- Comprehensive reviews of different motorcycle models, covering their performance, handling, safety, and features.\\n- User-generated ratings, reviews, and comparisons to help readers make informed choices.\\n\\n**V. Motorcycle Culture and Lifestyle**\\n\\n**a. Motorcycle Clubs and Communities:**\\n- Exploring the camaraderie and social aspect of motorcycle clubs and communities.\\n- Joining a local club or attending biker rallies and events.\\n\\n**b. Riding and Racing Events:**\\n- Understanding the world of motorcycle racing and competitions.\\n- Discussing the history of motorcycle racing, iconic riders, and professional circuits.\\n\\n**c. Motorcycle Customization and Modification:**\\n- Exploring the world of motorcycle customization and modifications.\\n- Installing accessories, modifying engines, and enhancing the aesthetics of a motorcycle.\\n\\n**VI. Motorcycle History and Milestones**\\n\\n**a. Birth of the Motorcycle:**\\n- The origins of motorcycles and their evolution from primitive steam-powered machines to modern-day supercars.\\n\\n**b. Major Milestones in Motorcycle Design and Production:**\\n- Significant advancements in engine technology, suspension, and safety features.\\n- Exploring the impact of technological advancements on motorcycle design.\\n\\n**VII. Buying and Selling Motorcycles**\\n\\n**a. Choosing the Right Motorcycle:**\\n- Factors to consider when buying a motorcycle, including budget, riding needs, and desired features.\\n- Understanding trade-ins, warranties, and the importance of getting a motorcycle inspected by a mechanic.\\n\\n**b. Understanding Trade-Ins and Warranties:**\\n- How trade-ins are evaluated and how warranties protect against potential issues.\\n- Choosing a motorcycle with a reliable warranty and maintenance history.\\n\\n**c. The Process of Buying and Selling a Motorcycle:**\\n- Step-by-step guide to purchasing and selling a motorcycle, including finding a dealer, arranging financing, and completing the transaction.\\n\\n**VIII. Motorcycle Maintenance and Repair**\\n\\n**a. Troubleshooting Common Motorcycle Problems:**\\n- Diagnosing and resolving mechanical issues related to the engine, transmission, brakes, and electrical systems.\\n- Using a multimeter and other diagnostic tools for troubleshooting.\\n\\n**b. Using a Multimeter:**\\n- Understanding the function and importance of a multimeter for motorcycle maintenance.\\n- Using a multimeter to read and test electrical readings and components.\\n\\n**c. DIY Motorcycle Repairs:**\\n- Providing guidance on basic motorcycle repairs, such as replacing a spark plug or changing a tire.\\n- Emphasizing the importance of safety and avoiding complex repairs beyond the skills and knowledge of an experienced mechanic.\\n\\n**IX. Conclusion**\\n\\n**a. The Future of Motorcycles:**\\n- Exploring the trends and advancements in the motorcycle industry, including electric vehicles and adventure bikes.\\n\\n**b. Tips for Staying Safe and Enjoying Your Motorcycle:**\\n- Following riding safety guidelines, maintaining your motorcycle in good condition, and exploring new riding opportunities.\\n\\n**c. Resources for Further Motorcycle Information and Support:**\\n- Providing links to motorcycle forums, online communities, and reliable motorcycle repair shops.\"}\n"
     ]
    }
   ],
   "source": [
    "initial_state = { \"topic\" : \"Motorcycles\" }\n",
    "\n",
    "final_state = workflow.invoke(initial_state)\n",
    "\n",
    "print(final_state)\n"
   ]
  },
  {
   "cell_type": "code",
   "execution_count": 9,
   "id": "6df38274",
   "metadata": {},
   "outputs": [
    {
     "name": "stdout",
     "output_type": "stream",
     "text": [
      "## Motorcycle Blog Outline\n",
      "\n",
      "**I. Introduction**\n",
      "    a. History of motorcycles\n",
      "    b. Different types of motorcycles\n",
      "    c. The allure of motorcycles\n",
      "\n",
      "**II. Motorcycle Maintenance and Care**\n",
      "    a. Essential maintenance tasks\n",
      "    b. How to read a motorcycle manual\n",
      "    c. Basic repair skills for beginners\n",
      "    d. Choosing the right tires\n",
      "\n",
      "**III. Riding and Riding Techniques**\n",
      "    a. Basic riding skills\n",
      "    b. Highway riding and long-distance riding\n",
      "    c. Motorcycle safety and awareness\n",
      "    d. Advanced riding techniques\n",
      "\n",
      "**IV. Motorcycle Reviews and Comparisons**\n",
      "    a. Comparing new and used motorcycles\n",
      "    b. In-depth reviews of specific models\n",
      "    c. Features and technology advancements\n",
      "\n",
      "**V. Motorcycle Culture and Lifestyle**\n",
      "    a. Motorcycle clubs and communities\n",
      "    b. Riding and racing events\n",
      "    c. Motorcycle customization and modification\n",
      "    d. The history of motorcycles in different cultures\n",
      "\n",
      "**VI. Motorcycle History and Milestones**\n",
      "    a. Birth of the motorcycle\n",
      "    b. Major milestones in motorcycle design and production\n",
      "    c. Motorcycles and historical figures\n",
      "\n",
      "**VII. Buying and Selling Motorcycles**\n",
      "    a. Choosing the right motorcycle\n",
      "    b. Understanding trade-ins and warranties\n",
      "    c. The process of buying and selling a motorcycle\n",
      "\n",
      "**VIII. Motorcycle Accessories and Modifications**\n",
      "    a. Different types of motorcycle accessories\n",
      "    b. Modifying and enhancing your motorcycle\n",
      "    c. Choosing the right accessories for your needs\n",
      "\n",
      "**IX. Motorcycle Maintenance and Repair**\n",
      "    a. Troubleshooting common motorcycle problems\n",
      "    b. How to use a multimeter\n",
      "    c. DIY motorcycle repairs\n",
      "    d. Hiring a professional mechanic\n",
      "\n",
      "**X. Conclusion**\n",
      "    a. The future of motorcycles\n",
      "    b. Tips for staying safe and enjoying your motorcycle\n",
      "    c. Resources for further motorcycle information and support\n"
     ]
    }
   ],
   "source": [
    "print(final_state[\"outline\"])"
   ]
  },
  {
   "cell_type": "code",
   "execution_count": 10,
   "id": "7e8d0370",
   "metadata": {},
   "outputs": [
    {
     "name": "stdout",
     "output_type": "stream",
     "text": [
      "**Motorcycle Blog: A Comprehensive Guide for New and Experienced Riders**\n",
      "\n",
      "**I. Introduction**\n",
      "\n",
      "**a. History of Motorcycles:**\n",
      "- The invention of the motorcycle, from its humble beginnings to its modern-day sophistication.\n",
      "- A brief overview of significant milestones in motorcycle history, from the first steam-powered machines to the modern-day superbike.\n",
      "\n",
      "**b. Different Types of Motorcycles:**\n",
      "- Categorizing motorcycles based on size, power, and purpose.\n",
      "- Describing the differences between cruisers, sport bikes, naked bikes, and touring motorcycles.\n",
      "\n",
      "**c. The Lure of Motorcycles:**\n",
      "- Exploring the allure of motorcycles for both practical and aesthetic reasons.\n",
      "- Discussing the sense of freedom, adventure, and individuality that motorcycles offer.\n",
      "\n",
      "**II. Motorcycle Maintenance and Care**\n",
      "\n",
      "**a. Essential Maintenance Tasks:**\n",
      "- Regular cleaning and maintenance, including oil changes, tire rotations, and inspection of lights, brakes, and fluids.\n",
      "- Importance of using the appropriate tools and techniques for motorcycle maintenance.\n",
      "\n",
      "**b. Reading a Motorcycle Manual:**\n",
      "- Understanding the motorcycle's manual and its different sections, including maintenance schedules, operating instructions, and troubleshooting guides.\n",
      "- How to use maintenance charts, identify parts, and understand diagnostic codes.\n",
      "\n",
      "**c. Basic Repair Skills for Beginners:**\n",
      "- Learning essential repair skills, such as replacing a spark plug, checking tire pressure, or changing a tire.\n",
      "- Providing basic repair tips and resources for motorcycle enthusiasts.\n",
      "\n",
      "**d. Choosing the Right Tires:**\n",
      "- Understanding the importance of tires in motorcycle performance and safety.\n",
      "- Choosing the right tires based on riding conditions, weather, and intended use.\n",
      "\n",
      "**III. Riding and Riding Techniques**\n",
      "\n",
      "**a. Basic Riding Skills:**\n",
      "- Understanding basic motorcycle controls, including the clutch, throttle, gear shifter, and brakes.\n",
      "- Basic riding maneuvers, such as starting, stopping, turning, and maneuvering in different conditions.\n",
      "\n",
      "**b. Highway Riding and Long-Distance Riding:**\n",
      "- Techniques for safe and efficient highway riding, including maintaining speed, fuel efficiency, and reducing fatigue.\n",
      "- Tips for long-distance riding, including rest stops, hydration, and navigation.\n",
      "\n",
      "**c. Motorcycle Safety and Awareness:**\n",
      "- The importance of wearing protective gear, following traffic laws, and being aware of surroundings.\n",
      "- Understanding motorcycle signals, mirrors, and other safety features.\n",
      "\n",
      "**d. Advanced Riding Techniques:**\n",
      "- Techniques for advanced riders, such as riding in adverse weather conditions, handling complex terrain, and participating in motorcycle racing.\n",
      "\n",
      "**IV. Motorcycle Reviews and Comparisons**\n",
      "\n",
      "**a. Comparing New and Used Motorcycles:**\n",
      "- Evaluating the pros and cons of both new and used motorcycles, including price, condition, performance, and safety.\n",
      "- Providing a comparative guide to help buyers make informed decisions.\n",
      "\n",
      "**b. In-Depth Reviews of Specific Models:**\n",
      "- Comprehensive reviews of different motorcycle models, covering their performance, handling, safety, and features.\n",
      "- User-generated ratings, reviews, and comparisons to help readers make informed choices.\n",
      "\n",
      "**V. Motorcycle Culture and Lifestyle**\n",
      "\n",
      "**a. Motorcycle Clubs and Communities:**\n",
      "- Exploring the camaraderie and social aspect of motorcycle clubs and communities.\n",
      "- Joining a local club or attending biker rallies and events.\n",
      "\n",
      "**b. Riding and Racing Events:**\n",
      "- Understanding the world of motorcycle racing and competitions.\n",
      "- Discussing the history of motorcycle racing, iconic riders, and professional circuits.\n",
      "\n",
      "**c. Motorcycle Customization and Modification:**\n",
      "- Exploring the world of motorcycle customization and modifications.\n",
      "- Installing accessories, modifying engines, and enhancing the aesthetics of a motorcycle.\n",
      "\n",
      "**VI. Motorcycle History and Milestones**\n",
      "\n",
      "**a. Birth of the Motorcycle:**\n",
      "- The origins of motorcycles and their evolution from primitive steam-powered machines to modern-day supercars.\n",
      "\n",
      "**b. Major Milestones in Motorcycle Design and Production:**\n",
      "- Significant advancements in engine technology, suspension, and safety features.\n",
      "- Exploring the impact of technological advancements on motorcycle design.\n",
      "\n",
      "**VII. Buying and Selling Motorcycles**\n",
      "\n",
      "**a. Choosing the Right Motorcycle:**\n",
      "- Factors to consider when buying a motorcycle, including budget, riding needs, and desired features.\n",
      "- Understanding trade-ins, warranties, and the importance of getting a motorcycle inspected by a mechanic.\n",
      "\n",
      "**b. Understanding Trade-Ins and Warranties:**\n",
      "- How trade-ins are evaluated and how warranties protect against potential issues.\n",
      "- Choosing a motorcycle with a reliable warranty and maintenance history.\n",
      "\n",
      "**c. The Process of Buying and Selling a Motorcycle:**\n",
      "- Step-by-step guide to purchasing and selling a motorcycle, including finding a dealer, arranging financing, and completing the transaction.\n",
      "\n",
      "**VIII. Motorcycle Maintenance and Repair**\n",
      "\n",
      "**a. Troubleshooting Common Motorcycle Problems:**\n",
      "- Diagnosing and resolving mechanical issues related to the engine, transmission, brakes, and electrical systems.\n",
      "- Using a multimeter and other diagnostic tools for troubleshooting.\n",
      "\n",
      "**b. Using a Multimeter:**\n",
      "- Understanding the function and importance of a multimeter for motorcycle maintenance.\n",
      "- Using a multimeter to read and test electrical readings and components.\n",
      "\n",
      "**c. DIY Motorcycle Repairs:**\n",
      "- Providing guidance on basic motorcycle repairs, such as replacing a spark plug or changing a tire.\n",
      "- Emphasizing the importance of safety and avoiding complex repairs beyond the skills and knowledge of an experienced mechanic.\n",
      "\n",
      "**IX. Conclusion**\n",
      "\n",
      "**a. The Future of Motorcycles:**\n",
      "- Exploring the trends and advancements in the motorcycle industry, including electric vehicles and adventure bikes.\n",
      "\n",
      "**b. Tips for Staying Safe and Enjoying Your Motorcycle:**\n",
      "- Following riding safety guidelines, maintaining your motorcycle in good condition, and exploring new riding opportunities.\n",
      "\n",
      "**c. Resources for Further Motorcycle Information and Support:**\n",
      "- Providing links to motorcycle forums, online communities, and reliable motorcycle repair shops.\n"
     ]
    }
   ],
   "source": [
    "print(final_state[\"blog\"])"
   ]
  },
  {
   "cell_type": "markdown",
   "id": "63a93c16",
   "metadata": {},
   "source": [
    "### 8. The Graph"
   ]
  },
  {
   "cell_type": "code",
   "execution_count": 11,
   "id": "27e42322",
   "metadata": {},
   "outputs": [
    {
     "data": {
      "image/png": "[encoded data removed]",
      "text/plain": [
       "<IPython.core.display.Image object>"
      ]
     },
     "execution_count": 11,
     "metadata": {},
     "output_type": "execute_result"
    }
   ],
   "source": [
    "from IPython.display import Image\n",
    "Image(workflow.get_graph().draw_mermaid_png(draw_method=MermaidDrawMethod.PYPPETEER))"
   ]
  }
 ],
 "metadata": {
  "kernelspec": {
   "display_name": "llm",
   "language": "python",
   "name": "python3"
  },
  "language_info": {
   "codemirror_mode": {
    "name": "ipython",
    "version": 3
   },
   "file_extension": ".py",
   "mimetype": "text/x-python",
   "name": "python",
   "nbconvert_exporter": "python",
   "pygments_lexer": "ipython3",
   "version": "3.12.12"
  }
 },
 "nbformat": 4,
 "nbformat_minor": 5
}
