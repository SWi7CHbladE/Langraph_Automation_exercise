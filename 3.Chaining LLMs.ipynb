{
 "cells": [
  {
   "cell_type": "markdown",
   "id": "c805bf19",
   "metadata": {},
   "source": [
    "# A chained LLM app\n",
    "Here we are attempting to generate a blog using LangGraph. The LLM will first be prompted to generate an outline. The LLM will then elaborate upon the outline to give us a finished blog."
   ]
  },
  {
   "cell_type": "markdown",
   "id": "bc061262",
   "metadata": {},
   "source": [
    "### 1. Import dependencies"
   ]
  },
  {
   "cell_type": "code",
   "execution_count": 1,
   "id": "9282af68",
   "metadata": {},
   "outputs": [],
   "source": [
    "from langgraph.graph import StateGraph, START, END\n",
    "from langchain_ollama.chat_models import ChatOllama\n",
    "from typing import TypedDict"
   ]
  },
  {
   "cell_type": "markdown",
   "id": "8d27c2c4",
   "metadata": {},
   "source": [
    "### 2. Linking the model"
   ]
  },
  {
   "cell_type": "code",
   "execution_count": 2,
   "id": "cbe6fe93",
   "metadata": {},
   "outputs": [],
   "source": [
    "model = ChatOllama(model=\"gemma:2b\")"
   ]
  },
  {
   "cell_type": "markdown",
   "id": "e313cda2",
   "metadata": {},
   "source": [
    "### 3. Create a state"
   ]
  },
  {
   "cell_type": "code",
   "execution_count": 3,
   "id": "c8efd95c",
   "metadata": {},
   "outputs": [],
   "source": [
    "class BlogState(TypedDict):                      # The BlogState inherits a TypedDict\n",
    "    topic: str\n",
    "    outline: str\n",
    "    blog: str"
   ]
  },
  {
   "cell_type": "markdown",
   "id": "f4ea3905",
   "metadata": {},
   "source": [
    "### 4. Define the function for the graph node"
   ]
  },
  {
   "cell_type": "code",
   "execution_count": 4,
   "id": "d57b95e6",
   "metadata": {},
   "outputs": [],
   "source": [
    "def llm_outline(state: BlogState) -> BlogState:\n",
    "    # Extract the question from the state\n",
    "    topic = state[\"topic\"]\n",
    "\n",
    "\n",
    "    # Form a prompt\n",
    "    prompt = f\"I require an outline for a blog on {topic}.\"\n",
    "\n",
    "\n",
    "    # Ask the question to the model\n",
    "    outline = model.invoke(prompt).content\n",
    "\n",
    "\n",
    "    # Update the state with the answer\n",
    "    state['outline'] = outline\n",
    "\n",
    "    return state\n",
    "\n",
    "\n",
    "def llm_blog(state: BlogState) -> BlogState:\n",
    "    # Extract the outline from the state\n",
    "    outline = state[\"outline\"]\n",
    "\n",
    "\n",
    "    # Form a prompt\n",
    "    prompt = f\"Write a detailed blog based on the following outline:\\n{outline}\"\n",
    "\n",
    "\n",
    "    # Ask the question to the model\n",
    "    blog = model.invoke(prompt).content\n",
    "\n",
    "\n",
    "    # Update the state with the answer\n",
    "    state[\"blog\"] = blog\n",
    "\n",
    "    return state"
   ]
  },
  {
   "cell_type": "markdown",
   "id": "3356a0f8",
   "metadata": {},
   "source": [
    "### 5. Create the graph"
   ]
  },
  {
   "cell_type": "code",
   "execution_count": 5,
   "id": "07cb083e",
   "metadata": {},
   "outputs": [
    {
     "data": {
      "text/plain": [
       "<langgraph.graph.state.StateGraph at 0x7c800452a0c0>"
      ]
     },
     "execution_count": 5,
     "metadata": {},
     "output_type": "execute_result"
    }
   ],
   "source": [
    "# Declare the graph:\n",
    "graph = StateGraph(BlogState)                    # The StateGraph takes the state as a parameter, signifying that the \"state\" will be exchanged between the nodes through the edges.\n",
    "\n",
    "# Add a nodes/states to the graph:\n",
    "graph.add_node(\"llm_outline\", llm_outline)\n",
    "graph.add_node(\"llm_blog\", llm_blog)\n",
    "\n",
    "\n",
    "# Add edges to the graph:\n",
    "graph.add_edge(START, 'llm_outline')\n",
    "graph.add_edge('llm_outline', 'llm_blog')\n",
    "graph.add_edge('llm_blog', END)"
   ]
  },
  {
   "cell_type": "markdown",
   "id": "2b197f1a",
   "metadata": {},
   "source": [
    "### 6. Compile the graph"
   ]
  },
  {
   "cell_type": "code",
   "execution_count": 6,
   "id": "f34d65a6",
   "metadata": {},
   "outputs": [],
   "source": [
    "workflow = graph.compile()"
   ]
  },
  {
   "cell_type": "markdown",
   "id": "4caaf2e8",
   "metadata": {},
   "source": [
    "### 7. Run the code"
   ]
  },
  {
   "cell_type": "code",
   "execution_count": 7,
   "id": "d4738a60",
   "metadata": {},
   "outputs": [
    {
     "name": "stdout",
     "output_type": "stream",
     "text": [
      "{'topic': 'Motorcycles', 'outline': '**Blog Outline: Motorcycles**\\n\\n**I. Introduction**\\n\\n* Definition of motorcycles and their history\\n* Benefits and drawbacks of motorcycle ownership\\n* Types of motorcycles and their purposes\\n\\n**II. Motorcycle History and Evolution**\\n\\n* The Evolution of Motorcycle Design\\n* Early Motorcycle Manufacturers and Their Products\\n* The Rise of Motorcycle Culture\\n\\n**III. Motorcycle Technology**\\n\\n* Engine Systems and Mechanics\\n* Suspension and Steering Systems\\n* Electrical and Lighting Systems\\n* Safety Features and Compliance\\n\\n**IV. Motorcycle Culture and Lifestyle**\\n\\n* The Motorcycle Community\\n* Motorcycle Shows and Events\\n* Street Culture and Customs\\n\\n**V. Motorcycle Maintenance and Repair**\\n\\n* Basic Maintenance Tasks\\n* Common Motorcycle Problems and Solutions\\n* How to Read a Motorcycle Maintenance Manual\\n\\n**VI. Motorcycle Maintenance and Repair**\\n\\n* Engine Tune-Ups and Replacements\\n* Suspension and Steering Adjustments\\n* Electrical Wiring and Testing\\n* Safety Checks and Inspections\\n\\n**VII. Motorcycle Riding Techniques**\\n\\n* Braking and Stopping\\n* Motorcycle Traction Control\\n* Handling and Steering\\n* Advanced Riding Skills\\n\\n**VIII. Motorcycle Maintenance and Repair**\\n\\n* Engine Tune-Ups and Replacements\\n* Suspension and Steering Adjustments\\n* Electrical Wiring and Testing\\n* Safety Checks and Inspections\\n\\n**IX. Buying and Owning a Motorcycle**\\n\\n* Choosing a Motorcycle\\n* Financing and Leasing Options\\n* Understanding Insurance Policies\\n\\n**X. Motorcycle Safety and Regulations**\\n\\n* Road Rules and Regulations\\n* Motorcycle Safety Education and Training\\n* Protecting Yourself and Others on the Road\\n\\n**XI. The Future of Motorcycles**\\n\\n* Emerging Technologies and Trends\\n* Sustainability and Electric Motorcycles\\n* The Role of Motorcycles in Society\\n\\n**XII. Conclusion**\\n\\n* Summary of key points\\n* Importance of motorcycles in society\\n* Future of motorcycle technology', 'blog': '## Motorcycles: A Comprehensive Guide\\n\\n**Introduction**\\n\\nMotorcycles, a fascinating blend of engineering and design, have become an integral part of modern society. From the rumbling roar of their engines to the sheer thrill of riding, motorcycles offer a unique and exhilarating experience. This comprehensive guide delves into the world of motorcycles, covering their rich history, technology, culture, maintenance, and safety.\\n\\n**I. Motorcycle History and Evolution**\\n\\nThe origins of motorcycles can be traced back to ancient civilizations. Early forms of wheeled vehicles, such as carriages and camels, paved the way for the development of motorcycles. The first motorcycle, the \"Kershaw,\" was built in 1886 by the English engineer Henry White. Over the following century, motorcycle design and technology advanced significantly. The invention of the internal combustion engine, particularly in the early 20th century, revolutionized motorcycle performance and paved the way for the modern-day motorcycle.\\n\\n**II. Motorcycle Technology**\\n\\nThe engine is the heart of a motorcycle, responsible for converting fuel into power. Engine systems include a cylinder, piston, crankshaft, and camshaft. Suspension and steering systems manage the motorcycle\\'s ride height, while electrical and lighting systems ensure safe and efficient operation in low-light conditions. Safety features, including helmets, brakes, and turn signals, protect both the rider and passengers.\\n\\n**III. Motorcycle Culture and Lifestyle**\\n\\nThe motorcycle community is a vibrant and passionate one, with clubs and events throughout the world. Motorcycle enthusiasts are known for their dedication to maintaining and customizing their machines, creating unique and eye-catching modifications. Street culture and customs play a significant role in shaping motorcycle culture, with a wide array of colors, styles, and accessories reflecting individual preferences.\\n\\n**IV. Motorcycle Maintenance and Repair**\\n\\nRegular maintenance and repair are essential to ensure motorcycle longevity and optimal performance. Basic maintenance tasks include checking tire pressure, checking fluid levels, and cleaning the bike. Common motorcycle problems include engine overheating, ignition issues, and suspension problems. Motorcycle repair involves skills and knowledge specific to the motorcycle\\'s make and model.\\n\\n**V. Motorcycle Riding Techniques**\\n\\nMotorcycling involves a set of skills that require practice and proficiency. Mastering braking and stopping techniques is crucial for safety, as is understanding motorcycle traction control. Handling and steering require coordination and balance, while advanced riding skills enable riders to navigate challenging conditions and express their skills.\\n\\n**VI. Motorcycle Maintenance and Repair**\\n\\nRegular engine tune-ups, suspension and steering adjustments, and electrical inspections are essential maintenance tasks. Engine tune-ups include checking valves, spark plugs, and air filter. Suspension and steering adjustments involve checking tire pressure, ball joints, and sway bars. Electrical wiring and testing involve checking fuses, lights, and ground connections. Safety checks and inspections include checking tire tread, brake pads, and air filter replacement.\\n\\n**VII. Buying and Owning a Motorcycle**\\n\\nChoosing a motorcycle requires considering factors such as size, weight, performance, and price. Financing and leasing options are available, providing convenient ways to purchase a bike without significant upfront costs. Understanding insurance policies and safety protocols is essential for protecting yourself and your motorcycle.\\n\\n**VIII. Motorcycle Safety and Regulations**\\n\\nMotorcycles are subject to strict road rules and regulations to ensure rider safety. These include speed limits, traffic signals, and safe road usage. Motorcycle safety education and training are crucial to enhance riders\\' knowledge and skills. Safety checks and inspections are regular components of maintaining motorcycle safety.\\n\\n**IX. The Future of Motorcycles**\\n\\nThe future of motorcycles is rapidly evolving, with advancements in technology and sustainability. Emerging technologies, such as electric and hybrid motorcycles, are gaining popularity. Motorcycles are poised to play a significant role in reducing carbon emissions and improving air quality. The role of motorcycles in society will continue to evolve, with increased use for transportation, recreation, and tourism.\\n\\n**Conclusion**\\n\\nMotorcycles offer a thrilling and rewarding experience that transcends mere transportation. From their rich history to technological advancements and vibrant culture, motorcycles continue to captivate and inspire riders worldwide. By understanding motorcycle maintenance, safety, and proper riding techniques, individuals can enjoy the full potential of these magnificent machines.'}\n"
     ]
    }
   ],
   "source": [
    "initial_state = { \"topic\" : \"Motorcycles\" }\n",
    "\n",
    "final_state = workflow.invoke(initial_state)\n",
    "\n",
    "print(final_state)\n"
   ]
  },
  {
   "cell_type": "code",
   "execution_count": 8,
   "id": "6df38274",
   "metadata": {},
   "outputs": [
    {
     "name": "stdout",
     "output_type": "stream",
     "text": [
      "**Blog Outline: Motorcycles**\n",
      "\n",
      "**I. Introduction**\n",
      "\n",
      "* Definition of motorcycles and their history\n",
      "* Benefits and drawbacks of motorcycle ownership\n",
      "* Types of motorcycles and their purposes\n",
      "\n",
      "**II. Motorcycle History and Evolution**\n",
      "\n",
      "* The Evolution of Motorcycle Design\n",
      "* Early Motorcycle Manufacturers and Their Products\n",
      "* The Rise of Motorcycle Culture\n",
      "\n",
      "**III. Motorcycle Technology**\n",
      "\n",
      "* Engine Systems and Mechanics\n",
      "* Suspension and Steering Systems\n",
      "* Electrical and Lighting Systems\n",
      "* Safety Features and Compliance\n",
      "\n",
      "**IV. Motorcycle Culture and Lifestyle**\n",
      "\n",
      "* The Motorcycle Community\n",
      "* Motorcycle Shows and Events\n",
      "* Street Culture and Customs\n",
      "\n",
      "**V. Motorcycle Maintenance and Repair**\n",
      "\n",
      "* Basic Maintenance Tasks\n",
      "* Common Motorcycle Problems and Solutions\n",
      "* How to Read a Motorcycle Maintenance Manual\n",
      "\n",
      "**VI. Motorcycle Maintenance and Repair**\n",
      "\n",
      "* Engine Tune-Ups and Replacements\n",
      "* Suspension and Steering Adjustments\n",
      "* Electrical Wiring and Testing\n",
      "* Safety Checks and Inspections\n",
      "\n",
      "**VII. Motorcycle Riding Techniques**\n",
      "\n",
      "* Braking and Stopping\n",
      "* Motorcycle Traction Control\n",
      "* Handling and Steering\n",
      "* Advanced Riding Skills\n",
      "\n",
      "**VIII. Motorcycle Maintenance and Repair**\n",
      "\n",
      "* Engine Tune-Ups and Replacements\n",
      "* Suspension and Steering Adjustments\n",
      "* Electrical Wiring and Testing\n",
      "* Safety Checks and Inspections\n",
      "\n",
      "**IX. Buying and Owning a Motorcycle**\n",
      "\n",
      "* Choosing a Motorcycle\n",
      "* Financing and Leasing Options\n",
      "* Understanding Insurance Policies\n",
      "\n",
      "**X. Motorcycle Safety and Regulations**\n",
      "\n",
      "* Road Rules and Regulations\n",
      "* Motorcycle Safety Education and Training\n",
      "* Protecting Yourself and Others on the Road\n",
      "\n",
      "**XI. The Future of Motorcycles**\n",
      "\n",
      "* Emerging Technologies and Trends\n",
      "* Sustainability and Electric Motorcycles\n",
      "* The Role of Motorcycles in Society\n",
      "\n",
      "**XII. Conclusion**\n",
      "\n",
      "* Summary of key points\n",
      "* Importance of motorcycles in society\n",
      "* Future of motorcycle technology\n"
     ]
    }
   ],
   "source": [
    "print(final_state[\"outline\"])"
   ]
  },
  {
   "cell_type": "code",
   "execution_count": 9,
   "id": "7e8d0370",
   "metadata": {},
   "outputs": [
    {
     "name": "stdout",
     "output_type": "stream",
     "text": [
      "## Motorcycles: A Comprehensive Guide\n",
      "\n",
      "**Introduction**\n",
      "\n",
      "Motorcycles, a fascinating blend of engineering and design, have become an integral part of modern society. From the rumbling roar of their engines to the sheer thrill of riding, motorcycles offer a unique and exhilarating experience. This comprehensive guide delves into the world of motorcycles, covering their rich history, technology, culture, maintenance, and safety.\n",
      "\n",
      "**I. Motorcycle History and Evolution**\n",
      "\n",
      "The origins of motorcycles can be traced back to ancient civilizations. Early forms of wheeled vehicles, such as carriages and camels, paved the way for the development of motorcycles. The first motorcycle, the \"Kershaw,\" was built in 1886 by the English engineer Henry White. Over the following century, motorcycle design and technology advanced significantly. The invention of the internal combustion engine, particularly in the early 20th century, revolutionized motorcycle performance and paved the way for the modern-day motorcycle.\n",
      "\n",
      "**II. Motorcycle Technology**\n",
      "\n",
      "The engine is the heart of a motorcycle, responsible for converting fuel into power. Engine systems include a cylinder, piston, crankshaft, and camshaft. Suspension and steering systems manage the motorcycle's ride height, while electrical and lighting systems ensure safe and efficient operation in low-light conditions. Safety features, including helmets, brakes, and turn signals, protect both the rider and passengers.\n",
      "\n",
      "**III. Motorcycle Culture and Lifestyle**\n",
      "\n",
      "The motorcycle community is a vibrant and passionate one, with clubs and events throughout the world. Motorcycle enthusiasts are known for their dedication to maintaining and customizing their machines, creating unique and eye-catching modifications. Street culture and customs play a significant role in shaping motorcycle culture, with a wide array of colors, styles, and accessories reflecting individual preferences.\n",
      "\n",
      "**IV. Motorcycle Maintenance and Repair**\n",
      "\n",
      "Regular maintenance and repair are essential to ensure motorcycle longevity and optimal performance. Basic maintenance tasks include checking tire pressure, checking fluid levels, and cleaning the bike. Common motorcycle problems include engine overheating, ignition issues, and suspension problems. Motorcycle repair involves skills and knowledge specific to the motorcycle's make and model.\n",
      "\n",
      "**V. Motorcycle Riding Techniques**\n",
      "\n",
      "Motorcycling involves a set of skills that require practice and proficiency. Mastering braking and stopping techniques is crucial for safety, as is understanding motorcycle traction control. Handling and steering require coordination and balance, while advanced riding skills enable riders to navigate challenging conditions and express their skills.\n",
      "\n",
      "**VI. Motorcycle Maintenance and Repair**\n",
      "\n",
      "Regular engine tune-ups, suspension and steering adjustments, and electrical inspections are essential maintenance tasks. Engine tune-ups include checking valves, spark plugs, and air filter. Suspension and steering adjustments involve checking tire pressure, ball joints, and sway bars. Electrical wiring and testing involve checking fuses, lights, and ground connections. Safety checks and inspections include checking tire tread, brake pads, and air filter replacement.\n",
      "\n",
      "**VII. Buying and Owning a Motorcycle**\n",
      "\n",
      "Choosing a motorcycle requires considering factors such as size, weight, performance, and price. Financing and leasing options are available, providing convenient ways to purchase a bike without significant upfront costs. Understanding insurance policies and safety protocols is essential for protecting yourself and your motorcycle.\n",
      "\n",
      "**VIII. Motorcycle Safety and Regulations**\n",
      "\n",
      "Motorcycles are subject to strict road rules and regulations to ensure rider safety. These include speed limits, traffic signals, and safe road usage. Motorcycle safety education and training are crucial to enhance riders' knowledge and skills. Safety checks and inspections are regular components of maintaining motorcycle safety.\n",
      "\n",
      "**IX. The Future of Motorcycles**\n",
      "\n",
      "The future of motorcycles is rapidly evolving, with advancements in technology and sustainability. Emerging technologies, such as electric and hybrid motorcycles, are gaining popularity. Motorcycles are poised to play a significant role in reducing carbon emissions and improving air quality. The role of motorcycles in society will continue to evolve, with increased use for transportation, recreation, and tourism.\n",
      "\n",
      "**Conclusion**\n",
      "\n",
      "Motorcycles offer a thrilling and rewarding experience that transcends mere transportation. From their rich history to technological advancements and vibrant culture, motorcycles continue to captivate and inspire riders worldwide. By understanding motorcycle maintenance, safety, and proper riding techniques, individuals can enjoy the full potential of these magnificent machines.\n"
     ]
    }
   ],
   "source": [
    "print(final_state[\"blog\"])"
   ]
  },
  {
   "cell_type": "markdown",
   "id": "63a93c16",
   "metadata": {},
   "source": [
    "### 8. The Graph"
   ]
  },
  {
   "cell_type": "code",
   "execution_count": 10,
   "id": "27e42322",
   "metadata": {},
   "outputs": [
    {
     "data": {
      "image/png": "[encoded data removed]",
      "text/plain": [
       "<IPython.core.display.Image object>"
      ]
     },
     "execution_count": 10,
     "metadata": {},
     "output_type": "execute_result"
    }
   ],
   "source": [
    "from IPython.display import Image\n",
    "Image(workflow.get_graph().draw_mermaid_png())"
   ]
  }
 ],
 "metadata": {
  "kernelspec": {
   "display_name": "llm",
   "language": "python",
   "name": "python3"
  },
  "language_info": {
   "codemirror_mode": {
    "name": "ipython",
    "version": 3
   },
   "file_extension": ".py",
   "mimetype": "text/x-python",
   "name": "python",
   "nbconvert_exporter": "python",
   "pygments_lexer": "ipython3",
   "version": "3.12.12"
  }
 },
 "nbformat": 4,
 "nbformat_minor": 5
}
